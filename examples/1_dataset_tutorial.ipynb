{
 "cells": [
  {
   "cell_type": "markdown",
   "metadata": {
    "collapsed": true
   },
   "source": [
    "# NMT-Keras tutorial"
   ]
  },
  {
   "cell_type": "markdown",
   "metadata": {},
   "source": [
    "This set of notebooks describes how to build a neural machine translation model with Keras-NMT. It's assumed that you properly set up all the required dependencies (Theano, Keras, Staged Keras Wrapper, COCO Caption...). First, we'll create a Dataset instance, in order to properly manage the data. Next, we'll create and train a Neural Translation Model. Finally, we'll apply the trained model on new (unseen) data."
   ]
  },
  {
   "cell_type": "heading",
   "metadata": {},
   "level": 1,
   "source": [
    "1. Building a Dataset model"
   ]
  },
  {
   "cell_type": "markdown",
   "metadata": {},
   "source": [
    "First, we are creating a [Dataset](https://github.com/MarcBS/staged_keras_wrapper/keras_wrapper/dataset.py) object (from the [Staged Keras Wrapper](https://github.com/MarcBS/staged_keras_wrapper) library). Let's make some imports and create an empty Dataset instance:"
   ]
  },
  {
   "cell_type": "code",
   "execution_count": 24,
   "metadata": {
    "collapsed": false
   },
   "outputs": [],
   "source": [
    "from keras_wrapper.dataset import Dataset\n",
    "ds = Dataset('tutorial_dataset', 'tutorial', silence=False)"
   ]
  },
  {
   "cell_type": "markdown",
   "metadata": {},
   "source": [
    "Now that we have the empty dataset, we must indicate its inputs and outputs. In our case, we'll have two different inputs and one single output:\n",
    "1) Outputs:\n",
    " \t**target_text**: Sentences in our target language.\n",
    "2) Inputs: \n",
    " \t**source_text**: Sentences in the source language.\n",
    "\t**state_below**: Sentences  in the target language, but shifted one position to the right (for teacher-forcing training of the model)."
   ]
  },
  {
   "cell_type": "markdown",
   "metadata": {},
   "source": [
    "For setting up the outputs, we use the setOutputs function, with the appropriate parameters. Note that, when we are building the dataset for the training split, we build the vocabulary (up to 30000 words)."
   ]
  },
  {
   "cell_type": "code",
   "execution_count": 25,
   "metadata": {
    "collapsed": true
   },
   "outputs": [],
   "source": [
    "ds.setOutput('examples/EuTrans/DATA/training.en',\n",
    "             'train',\n",
    "             type='text',\n",
    "             id='target_text',\n",
    "             tokenization='tokenize_none',\n",
    "             build_vocabulary=True,\n",
    "             pad_on_batch=True,\n",
    "             sample_weights=True,\n",
    "             max_text_len=30,\n",
    "             max_words=30000,\n",
    "             min_occ=0)\n",
    "\n",
    "ds.setOutput('examples/EuTrans/DATA//dev.en',\n",
    "             'val',\n",
    "             type='text',\n",
    "             id='target_text',\n",
    "             pad_on_batch=True,\n",
    "             tokenization='tokenize_none',\n",
    "             sample_weights=True,\n",
    "             max_text_len=30,\n",
    "             max_words=0)"
   ]
  },
  {
   "cell_type": "markdown",
   "metadata": {},
   "source": [
    "Similarly, we introduce the source text data, with the setInputs function. Again, when building the training split, we must construct the vocabulary.\n",
    "\n"
   ]
  },
  {
   "cell_type": "code",
   "execution_count": 26,
   "metadata": {
    "collapsed": true
   },
   "outputs": [],
   "source": [
    "ds.setInput('examples/EuTrans/DATA//training.es',\n",
    "            'train',\n",
    "            type='text',\n",
    "            id='source_text',\n",
    "            pad_on_batch=True,\n",
    "            tokenization='tokenize_none',\n",
    "            build_vocabulary=True,\n",
    "            fill='end',\n",
    "            max_text_len=30,\n",
    "            max_words=30000,\n",
    "            min_occ=0)\n",
    "ds.setInput('examples/EuTrans/DATA//dev.es',\n",
    "            'val',\n",
    "            type='text',\n",
    "            id='source_text',\n",
    "            pad_on_batch=True,\n",
    "            tokenization='tokenize_none',\n",
    "            fill='end',\n",
    "            max_text_len=30,\n",
    "            min_occ=0)"
   ]
  },
  {
   "cell_type": "markdown",
   "metadata": {},
   "source": [
    "...and for the 'state_below' data. Note that: 1) The offset flat is set to 1, which means that the text will be shifted to the right 1 position. 2) During sampling time, we won't have this input. Hence, we 'hack' the dataset model by inserting an artificial input, of type 'ghost' for the validation split."
   ]
  },
  {
   "cell_type": "code",
   "execution_count": 27,
   "metadata": {
    "collapsed": true
   },
   "outputs": [],
   "source": [
    "ds.setInput('examples/EuTrans/DATA//training.en',\n",
    "            'train',\n",
    "            type='text',\n",
    "            id='state_below',\n",
    "            required=False,\n",
    "            tokenization='tokenize_none',\n",
    "            pad_on_batch=True,\n",
    "            build_vocabulary='target_text',\n",
    "            offset=1,\n",
    "            fill='end',\n",
    "            max_text_len=30,\n",
    "            max_words=30000)\n",
    "ds.setInput(None,\n",
    "            'val',\n",
    "            type='ghost',\n",
    "            id='state_below',\n",
    "            required=False)"
   ]
  },
  {
   "cell_type": "markdown",
   "metadata": {},
   "source": [
    "Finally, we can save our dataset instance for using in other experiments:"
   ]
  },
  {
   "cell_type": "code",
   "execution_count": 22,
   "metadata": {
    "collapsed": true
   },
   "outputs": [],
   "source": [
    "saveDataset(ds, 'datasets')"
   ]
  }
 ],
 "metadata": {
  "anaconda-cloud": {},
  "kernelspec": {
   "display_name": "Python [default]",
   "language": "python",
   "name": "python2"
  },
  "language_info": {
   "codemirror_mode": {
    "name": "ipython",
    "version": 2.0
   },
   "file_extension": ".py",
   "mimetype": "text/x-python",
   "name": "python",
   "nbconvert_exporter": "python",
   "pygments_lexer": "ipython2",
   "version": "2.7.12"
  }
 },
 "nbformat": 4,
 "nbformat_minor": 0
}